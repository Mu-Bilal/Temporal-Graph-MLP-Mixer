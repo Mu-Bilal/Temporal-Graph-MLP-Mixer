{
 "cells": [
  {
   "cell_type": "markdown",
   "metadata": {},
   "source": [
    "### Notebook to test model for final performance metrics"
   ]
  },
  {
   "cell_type": "code",
   "execution_count": 6,
   "metadata": {},
   "outputs": [
    {
     "name": "stderr",
     "output_type": "stream",
     "text": [
      "Cached dataset does not match arguments, re-building the dataset...\n"
     ]
    },
    {
     "name": "stdout",
     "output_type": "stream",
     "text": [
      "\n",
      "Dataloaders and Topology Data Overview:\n",
      "Batch size: 16\n",
      "----------------------------------------------------------\n",
      "Name                 | Samples      | Batches     \n",
      "----------------------------------------------------------\n",
      "Train Loader         | 6924         | 432         \n",
      "Val Loader           | 989          | 61          \n",
      "Test Loader          | 1978         | 123         \n",
      "\n",
      "Topology Data:\n",
      "Number of nodes: 100\n",
      "Number of edges: 300\n",
      "----------------------------------------------------------\n",
      "Imported model from run \"8mg9ekf1\".\n",
      "  | Name                | Type              | Params\n",
      "----------------------------------------------------------\n",
      "0 | criterion           | L1Loss            | 0     \n",
      "1 | input_encoder_patch | Linear            | 576   \n",
      "2 | input_encoder_node  | Linear            | 384   \n",
      "3 | edge_encoder        | Linear            | 384   \n",
      "4 | gnns                | ModuleList        | 223 K \n",
      "5 | U                   | ModuleList        | 37.4 K\n",
      "6 | mixer_patch         | MLPMixerTemporal  | 299 K \n",
      "7 | mixer_node          | MLPMixerTemporal  | 499 K \n",
      "8 | readout             | SingleNodeReadout | 829 K \n",
      "----------------------------------------------------------\n",
      "1.9 M     Trainable params\n",
      "0         Non-trainable params\n",
      "1.9 M     Total params\n",
      "7.560     Total estimated model params size (MB)\n"
     ]
    }
   ],
   "source": [
    "import sys\n",
    "import os\n",
    "from matplotlib import pyplot as plt\n",
    "from tqdm import tqdm\n",
    "import torch\n",
    "sys.path.append(os.path.dirname(os.path.abspath('.')))\n",
    "\n",
    "from dev.utils import load_wandb_model\n",
    "\n",
    "model, cfg, train_loader, val_loader, test_loader, topo_data, metadata = load_wandb_model('8mg9ekf1', name='last.ckpt', device='cuda')"
   ]
  },
  {
   "cell_type": "code",
   "execution_count": 7,
   "metadata": {},
   "outputs": [
    {
     "name": "stderr",
     "output_type": "stream",
     "text": [
      "/mnt/cephfs/store/gr-mc2473/lc865/misc/condaforge/envs/ml-gnn/lib/python3.10/site-packages/lightning/fabric/plugins/environments/slurm.py:204: The `srun` command is available on your system but is not used. HINT: If your intention is to run Lightning on SLURM, prepend your python command with `srun` like so: srun python /mnt/cephfs/store/gr-mc2473/lc865/misc/condaforge/en ...\n",
      "GPU available: True (cuda), used: True\n",
      "TPU available: False, using: 0 TPU cores\n",
      "IPU available: False, using: 0 IPUs\n",
      "HPU available: False, using: 0 HPUs\n",
      "LOCAL_RANK: 0 - CUDA_VISIBLE_DEVICES: [0,1,2,3]\n"
     ]
    },
    {
     "name": "stdout",
     "output_type": "stream",
     "text": [
      "Testing DataLoader 0: 100%|██████████| 123/123 [00:12<00:00,  9.70it/s]\n",
      "────────────────────────────────────────────────────────────────────────────────────────────────────────────────────────\n",
      "       Test metric             DataLoader 0\n",
      "────────────────────────────────────────────────────────────────────────────────────────────────────────────────────────\n",
      "     test/all-mae-12        1.1915227174758911\n",
      "     test/all-mae-24        1.1910849809646606\n",
      "     test/all-mae-36        1.1971192359924316\n",
      "    test/all-mae-all         1.191590666770935\n",
      "    test/all-mape-12         481.2224426269531\n",
      "    test/all-mape-24         482.3765869140625\n",
      "    test/all-mape-36         477.2601013183594\n",
      "    test/all-mape-all        479.8969421386719\n",
      "  test/all-missing_rate             0.0\n",
      "    test/all-rmse-12        1.4928072690963745\n",
      "    test/all-rmse-24        1.4923545122146606\n",
      "    test/all-rmse-36        1.4999562501907349\n",
      "    test/all-rmse-all       1.4938907623291016\n",
      "        test/loss           0.6863498687744141\n",
      "   test/synthRm-mae-12      1.1876733303070068\n",
      "   test/synthRm-mae-24       1.187865972518921\n",
      "   test/synthRm-mae-36       1.193656086921692\n",
      "  test/synthRm-mae-all      1.1877182722091675\n",
      "  test/synthRm-mape-12       441.3156433105469\n",
      "  test/synthRm-mape-24      439.23858642578125\n",
      "  test/synthRm-mape-36       435.5209045410156\n",
      "  test/synthRm-mape-all     441.76922607421875\n",
      "test/synthRm-missing_rate   0.6651365756988525\n",
      "  test/synthRm-rmse-12      1.4891778230667114\n",
      "  test/synthRm-rmse-24      1.4887628555297852\n",
      "  test/synthRm-rmse-36       1.495984435081482\n",
      "  test/synthRm-rmse-all      1.491316318511963\n",
      "────────────────────────────────────────────────────────────────────────────────────────────────────────────────────────\n"
     ]
    }
   ],
   "source": [
    "# Run test with Lightning trainer\n",
    "from lightning import Trainer\n",
    "\n",
    "trainer = Trainer(\n",
    "    accelerator='auto',\n",
    "    devices=1,\n",
    "    logger=None,\n",
    "    enable_checkpointing=False\n",
    ")\n",
    "torch.set_float32_matmul_precision('medium')\n",
    "\n",
    "# Run test and get metrics\n",
    "test_results = trainer.test(model, test_loader)\n"
   ]
  }
 ],
 "metadata": {
  "kernelspec": {
   "display_name": "ml-gnn",
   "language": "python",
   "name": "python3"
  },
  "language_info": {
   "codemirror_mode": {
    "name": "ipython",
    "version": 3
   },
   "file_extension": ".py",
   "mimetype": "text/x-python",
   "name": "python",
   "nbconvert_exporter": "python",
   "pygments_lexer": "ipython3",
   "version": "3.10.16"
  }
 },
 "nbformat": 4,
 "nbformat_minor": 2
}
