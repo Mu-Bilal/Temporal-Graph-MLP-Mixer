{
 "cells": [
  {
   "cell_type": "markdown",
   "metadata": {},
   "source": [
    "### Notebook to test model for final performance metrics"
   ]
  },
  {
   "cell_type": "code",
   "execution_count": 1,
   "metadata": {},
   "outputs": [
    {
     "name": "stderr",
     "output_type": "stream",
     "text": [
      "/mnt/cephfs/store/gr-mc2473/lc865/misc/condaforge/envs/ml-gnn/lib/python3.10/site-packages/tqdm/auto.py:21: TqdmWarning: IProgress not found. Please update jupyter and ipywidgets. See https://ipywidgets.readthedocs.io/en/stable/user_install.html\n",
      "  from .autonotebook import tqdm as notebook_tqdm\n"
     ]
    },
    {
     "name": "stdout",
     "output_type": "stream",
     "text": [
      "\n",
      "Dataloaders and Topology Data Overview:\n",
      "Batch size: 16\n",
      "----------------------------------------------------------\n",
      "Name                 | Samples      | Batches     \n",
      "----------------------------------------------------------\n",
      "Train Loader         | 23974        | 1498        \n",
      "Val Loader           | 3424         | 214         \n",
      "Test Loader          | 6849         | 428         \n",
      "\n",
      "Topology Data:\n",
      "Number of nodes: 207\n",
      "Number of edges: 1722\n",
      "----------------------------------------------------------\n"
     ]
    }
   ],
   "source": [
    "import sys\n",
    "import os\n",
    "import torch\n",
    "from omegaconf import OmegaConf\n",
    "\n",
    "sys.path.append(os.path.dirname(os.path.abspath('.')))\n",
    "from model.dataset import create_dataloaders\n",
    "from model.model import GMMModel\n",
    "\n",
    "cfg = OmegaConf.load('/home/lc865/workspace/DL-GNNs/Temporal-Graph-MLP-Mixer/src/TGMM-1/train/metrla.yaml')\n",
    "train_loader, val_loader, test_loader, topo_data, metadata = create_dataloaders(cfg, raw_data_dir='/mnt/cephfs/store/gr-mc2473/lc865/workspace/GNN/data')\n",
    "\n",
    "# Initialize model with Lightning\n",
    "# model = GMMModel(cfg, topo_data, metadata)\n",
    "\n",
    "# Load model checkpoint using Lightning\n",
    "checkpoint_path = '/mnt/cephfs/store/gr-mc2473/lc865/workspace/GNN/checkpoints/last-v39.ckpt'  # Todo: Replace with WandB loading\n",
    "device = torch.device('cuda' if torch.cuda.is_available() else 'cpu')\n",
    "model = GMMModel.load_from_checkpoint(checkpoint_path, cfg=cfg, topo_data=topo_data, metadata=metadata, map_location=device)\n",
    "\n",
    "# Set model to evaluation mode\n",
    "model.eval()\n",
    "pass"
   ]
  },
  {
   "cell_type": "code",
   "execution_count": 3,
   "metadata": {},
   "outputs": [
    {
     "name": "stderr",
     "output_type": "stream",
     "text": [
      "GPU available: True (cuda), used: True\n",
      "TPU available: False, using: 0 TPU cores\n",
      "IPU available: False, using: 0 IPUs\n",
      "HPU available: False, using: 0 HPUs\n",
      "LOCAL_RANK: 0 - CUDA_VISIBLE_DEVICES: [0,1,2,3]\n"
     ]
    },
    {
     "name": "stdout",
     "output_type": "stream",
     "text": [
      "Testing DataLoader 0: 100%|██████████| 428/428 [00:15<00:00, 26.76it/s]\n",
      "────────────────────────────────────────────────────────────────────────────────────────────────────────────────────────\n",
      "       Test metric             DataLoader 0\n",
      "────────────────────────────────────────────────────────────────────────────────────────────────────────────────────────\n",
      "        test/loss            0.27034991979599\n",
      "       test/mae-12           5.133164405822754\n",
      "       test/mae-3           3.6990268230438232\n",
      "       test/mae-6            4.348849773406982\n",
      "      test/mape-12          12.860255241394043\n",
      "       test/mape-3           9.501599311828613\n",
      "       test/mape-6          10.985395431518555\n",
      "      test/rmse-12           9.13708209991455\n",
      "       test/rmse-3           6.543972015380859\n",
      "       test/rmse-6           7.745425224304199\n",
      "────────────────────────────────────────────────────────────────────────────────────────────────────────────────────────\n"
     ]
    }
   ],
   "source": [
    "# Run test with Lightning trainer\n",
    "from lightning import Trainer\n",
    "\n",
    "trainer = Trainer(\n",
    "    accelerator='auto',\n",
    "    devices=1,\n",
    "    logger=None,\n",
    "    enable_checkpointing=False\n",
    ")\n",
    "torch.set_float32_matmul_precision('medium')\n",
    "\n",
    "# Run test and get metrics\n",
    "test_results = trainer.test(model, test_loader)\n"
   ]
  }
 ],
 "metadata": {
  "kernelspec": {
   "display_name": "ml-gnn",
   "language": "python",
   "name": "python3"
  },
  "language_info": {
   "codemirror_mode": {
    "name": "ipython",
    "version": 3
   },
   "file_extension": ".py",
   "mimetype": "text/x-python",
   "name": "python",
   "nbconvert_exporter": "python",
   "pygments_lexer": "ipython3",
   "version": "3.10.16"
  }
 },
 "nbformat": 4,
 "nbformat_minor": 2
}
