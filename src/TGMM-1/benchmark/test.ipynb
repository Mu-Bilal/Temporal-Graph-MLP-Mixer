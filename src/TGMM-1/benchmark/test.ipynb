{
 "cells": [
  {
   "cell_type": "markdown",
   "metadata": {},
   "source": [
    "### Notebook to test model for final performance metrics"
   ]
  },
  {
   "cell_type": "code",
   "execution_count": 12,
   "metadata": {},
   "outputs": [
    {
     "name": "stdout",
     "output_type": "stream",
     "text": [
      "\n",
      "Dataloaders and Topology Data Overview:\n",
      "Batch size: 4\n",
      "----------------------------------------------------------\n",
      "Name                 | Samples      | Batches     \n",
      "----------------------------------------------------------\n",
      "Train Loader         | 6111         | 1527        \n",
      "Val Loader           | 873          | 218         \n",
      "Test Loader          | 1746         | 436         \n",
      "\n",
      "Topology Data:\n",
      "Number of nodes: 437\n",
      "Number of edges: 5460\n",
      "----------------------------------------------------------\n",
      "Imported model from run \"n7vcocod\".\n",
      "  | Name                | Type              | Params\n",
      "----------------------------------------------------------\n",
      "0 | criterion           | L1Loss            | 0     \n",
      "1 | input_encoder_patch | Linear            | 384   \n",
      "2 | input_encoder_node  | Linear            | 384   \n",
      "3 | edge_encoder        | Linear            | 256   \n",
      "4 | gnns                | ModuleList        | 99.6 K\n",
      "5 | U                   | ModuleList        | 16.8 K\n",
      "6 | mixer_patch         | MLPMixerTemporal  | 1.2 M \n",
      "7 | mixer_node          | MLPMixerTemporal  | 1.8 M \n",
      "8 | readout             | SingleNodeReadout | 36.9 K\n",
      "----------------------------------------------------------\n",
      "3.2 M     Trainable params\n",
      "0         Non-trainable params\n",
      "3.2 M     Total params\n",
      "12.828    Total estimated model params size (MB)\n"
     ]
    }
   ],
   "source": [
    "import sys\n",
    "import os\n",
    "from matplotlib import pyplot as plt\n",
    "from tqdm import tqdm\n",
    "import torch\n",
    "sys.path.append(os.path.dirname(os.path.abspath('.')))\n",
    "\n",
    "from dev.utils import load_wandb_model\n",
    "\n",
    "model, cfg, train_loader, val_loader, test_loader, topo_data, metadata = load_wandb_model('n7vcocod', name='epoch=5.ckpt', device='cuda')"
   ]
  },
  {
   "cell_type": "code",
   "execution_count": 13,
   "metadata": {},
   "outputs": [
    {
     "name": "stderr",
     "output_type": "stream",
     "text": [
      "/mnt/cephfs/store/gr-mc2473/lc865/misc/condaforge/envs/ml-gnn/lib/python3.10/site-packages/lightning/fabric/plugins/environments/slurm.py:204: The `srun` command is available on your system but is not used. HINT: If your intention is to run Lightning on SLURM, prepend your python command with `srun` like so: srun python /mnt/cephfs/store/gr-mc2473/lc865/misc/condaforge/en ...\n",
      "GPU available: True (cuda), used: True\n",
      "TPU available: False, using: 0 TPU cores\n",
      "IPU available: False, using: 0 IPUs\n",
      "HPU available: False, using: 0 HPUs\n",
      "LOCAL_RANK: 0 - CUDA_VISIBLE_DEVICES: [0,1,2,3]\n"
     ]
    },
    {
     "name": "stdout",
     "output_type": "stream",
     "text": [
      "Testing DataLoader 0: 100%|██████████| 436/436 [01:05<00:00,  6.62it/s]\n",
      "────────────────────────────────────────────────────────────────────────────────────────────────────────────────────────\n",
      "       Test metric             DataLoader 0\n",
      "────────────────────────────────────────────────────────────────────────────────────────────────────────────────────────\n",
      "     test/all-mae-2          19.80620574951172\n",
      "     test/all-mae-4         22.884592056274414\n",
      "     test/all-mae-6         25.942747116088867\n",
      "    test/all-mae-all        22.066444396972656\n",
      "     test/all-mape-2        52.961570739746094\n",
      "     test/all-mape-4         58.9210090637207\n",
      "     test/all-mape-6         68.81634521484375\n",
      "    test/all-mape-all        58.20038604736328\n",
      "  test/all-missing_rate     0.12114646285772324\n",
      "     test/all-rmse-2         29.59722900390625\n",
      "     test/all-rmse-4        33.648860931396484\n",
      "     test/all-rmse-6        37.515438079833984\n",
      "    test/all-rmse-all       32.869049072265625\n",
      "        test/loss           0.32603469491004944\n",
      "   test/synthRm-mae-2       19.835634231567383\n",
      "   test/synthRm-mae-4       22.920955657958984\n",
      "   test/synthRm-mae-6       25.964231491088867\n",
      "  test/synthRm-mae-all      22.096691131591797\n",
      "   test/synthRm-mape-2      53.203033447265625\n",
      "   test/synthRm-mape-4       59.14842987060547\n",
      "   test/synthRm-mape-6       69.01038360595703\n",
      "  test/synthRm-mape-all     58.458770751953125\n",
      "test/synthRm-missing_rate   0.34075769782066345\n",
      "   test/synthRm-rmse-2      29.646961212158203\n",
      "   test/synthRm-rmse-4       33.70887756347656\n",
      "   test/synthRm-rmse-6       37.57258605957031\n",
      "  test/synthRm-rmse-all      32.93476104736328\n",
      "────────────────────────────────────────────────────────────────────────────────────────────────────────────────────────\n"
     ]
    }
   ],
   "source": [
    "# Run test with Lightning trainer\n",
    "from lightning import Trainer\n",
    "\n",
    "trainer = Trainer(\n",
    "    accelerator='auto',\n",
    "    devices=1,\n",
    "    logger=None,\n",
    "    enable_checkpointing=False\n",
    ")\n",
    "torch.set_float32_matmul_precision('medium')\n",
    "\n",
    "# Run test and get metrics\n",
    "test_results = trainer.test(model, test_loader)\n"
   ]
  }
 ],
 "metadata": {
  "kernelspec": {
   "display_name": "ml-gnn",
   "language": "python",
   "name": "python3"
  },
  "language_info": {
   "codemirror_mode": {
    "name": "ipython",
    "version": 3
   },
   "file_extension": ".py",
   "mimetype": "text/x-python",
   "name": "python",
   "nbconvert_exporter": "python",
   "pygments_lexer": "ipython3",
   "version": "3.10.16"
  }
 },
 "nbformat": 4,
 "nbformat_minor": 2
}
