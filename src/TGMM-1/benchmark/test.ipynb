{
 "cells": [
  {
   "cell_type": "markdown",
   "metadata": {},
   "source": [
    "### Notebook to test model for final performance metrics"
   ]
  },
  {
   "cell_type": "code",
   "execution_count": 4,
   "metadata": {},
   "outputs": [
    {
     "name": "stdout",
     "output_type": "stream",
     "text": [
      "\n",
      "Dataloaders and Topology Data Overview:\n",
      "Batch size: 16\n",
      "----------------------------------------------------------\n",
      "Name                 | Samples      | Batches     \n",
      "----------------------------------------------------------\n",
      "Train Loader         | 23974        | 1498        \n",
      "Val Loader           | 3424         | 214         \n",
      "Test Loader          | 6849         | 428         \n",
      "\n",
      "Topology Data:\n",
      "Number of nodes: 207\n",
      "Number of edges: 1722\n",
      "----------------------------------------------------------\n"
     ]
    }
   ],
   "source": [
    "import sys\n",
    "import os\n",
    "import torch\n",
    "from omegaconf import OmegaConf\n",
    "\n",
    "sys.path.append(os.path.dirname(os.path.abspath('.')))\n",
    "from model.dataset import create_dataloaders\n",
    "from model.model import GMMModel\n",
    "\n",
    "cfg = OmegaConf.load('/home/lc865/workspace/DL-GNNs/Temporal-Graph-MLP-Mixer/src/TGMM-1/train/metrla.yaml')\n",
    "train_loader, val_loader, test_loader, topo_data, metadata = create_dataloaders(cfg, raw_data_dir='/mnt/cephfs/store/gr-mc2473/lc865/workspace/GNN/data')\n",
    "\n",
    "# Initialize model with Lightning\n",
    "# model = GMMModel(cfg, topo_data, metadata)\n",
    "\n",
    "# Load model checkpoint using Lightning\n",
    "checkpoint_path = '/mnt/cephfs/store/gr-mc2473/lc865/workspace/GNN/checkpoints/last-v41.ckpt'  # Todo: Replace with WandB loading\n",
    "device = torch.device('cuda' if torch.cuda.is_available() else 'cpu')\n",
    "model = GMMModel.load_from_checkpoint(checkpoint_path, cfg=cfg, topo_data=topo_data, metadata=metadata, map_location=device)\n",
    "\n",
    "# Set model to evaluation mode\n",
    "model.eval()\n",
    "pass"
   ]
  },
  {
   "cell_type": "code",
   "execution_count": 5,
   "metadata": {},
   "outputs": [
    {
     "name": "stderr",
     "output_type": "stream",
     "text": [
      "GPU available: True (cuda), used: True\n",
      "TPU available: False, using: 0 TPU cores\n",
      "IPU available: False, using: 0 IPUs\n",
      "HPU available: False, using: 0 HPUs\n",
      "LOCAL_RANK: 0 - CUDA_VISIBLE_DEVICES: [0,1,2,3]\n"
     ]
    },
    {
     "name": "stdout",
     "output_type": "stream",
     "text": [
      "Testing DataLoader 0: 100%|██████████| 428/428 [00:15<00:00, 26.79it/s]\n",
      "────────────────────────────────────────────────────────────────────────────────────────────────────────────────────────\n",
      "       Test metric             DataLoader 0\n",
      "────────────────────────────────────────────────────────────────────────────────────────────────────────────────────────\n",
      "        test/loss           0.2852415144443512\n",
      "       test/mae-12           5.665010929107666\n",
      "       test/mae-3            4.081916809082031\n",
      "       test/mae-6            4.822720527648926\n",
      "      test/mae-all           4.787268161773682\n",
      "      test/mape-12          13.482573509216309\n",
      "       test/mape-3           9.696481704711914\n",
      "       test/mape-6          11.310423851013184\n",
      "      test/mape-all           11.286865234375\n",
      "      test/rmse-12           9.574116706848145\n",
      "       test/rmse-3           6.958033084869385\n",
      "       test/rmse-6           8.185614585876465\n",
      "      test/rmse-all          8.217775344848633\n",
      "────────────────────────────────────────────────────────────────────────────────────────────────────────────────────────\n"
     ]
    }
   ],
   "source": [
    "# Run test with Lightning trainer\n",
    "from lightning import Trainer\n",
    "\n",
    "trainer = Trainer(\n",
    "    accelerator='auto',\n",
    "    devices=1,\n",
    "    logger=None,\n",
    "    enable_checkpointing=False\n",
    ")\n",
    "torch.set_float32_matmul_precision('medium')\n",
    "\n",
    "# Run test and get metrics\n",
    "test_results = trainer.test(model, test_loader)\n"
   ]
  }
 ],
 "metadata": {
  "kernelspec": {
   "display_name": "ml-gnn",
   "language": "python",
   "name": "python3"
  },
  "language_info": {
   "codemirror_mode": {
    "name": "ipython",
    "version": 3
   },
   "file_extension": ".py",
   "mimetype": "text/x-python",
   "name": "python",
   "nbconvert_exporter": "python",
   "pygments_lexer": "ipython3",
   "version": "3.10.16"
  }
 },
 "nbformat": 4,
 "nbformat_minor": 2
}
