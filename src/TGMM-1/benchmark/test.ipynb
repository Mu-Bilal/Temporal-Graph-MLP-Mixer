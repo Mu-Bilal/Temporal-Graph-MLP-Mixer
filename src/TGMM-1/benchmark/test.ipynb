{
 "cells": [
  {
   "cell_type": "markdown",
   "metadata": {},
   "source": [
    "### Notebook to test model for final performance metrics"
   ]
  },
  {
   "cell_type": "code",
   "execution_count": 4,
   "metadata": {},
   "outputs": [
    {
     "name": "stderr",
     "output_type": "stream",
     "text": [
      "/mnt/cephfs/store/gr-mc2473/lc865/misc/condaforge/envs/ml-gnn/lib/python3.10/site-packages/tsl/datasets/metr_la.py:98: FutureWarning: 'T' is deprecated and will be removed in a future version, please use 'min' instead.\n",
      "  date_range = pd.date_range(df.index[0], df.index[-1], freq='5T')\n",
      "/mnt/cephfs/store/gr-mc2473/lc865/misc/condaforge/envs/ml-gnn/lib/python3.10/site-packages/tsl/datasets/metr_la.py:109: FutureWarning: The 'method' keyword in DataFrame.replace is deprecated and will be removed in a future version.\n",
      "  df = df.replace(to_replace=0., method='ffill')\n"
     ]
    },
    {
     "name": "stdout",
     "output_type": "stream",
     "text": [
      "Predicted raw dataset size: 1.36 GB\n",
      "Predicted raw dataset size: 1.36 GB\n",
      "Predicted raw dataset size: 1.36 GB\n",
      "Predicted raw dataset size: 1.36 GB\n",
      "\n",
      "Dataloaders and Topology Data Overview:\n",
      "Batch size: 16\n",
      "----------------------------------------------------------\n",
      "Name                 | Samples      | Batches     \n",
      "----------------------------------------------------------\n",
      "Train Loader         | 23973        | 1498        \n",
      "Val Loader           | 3424         | 214         \n",
      "Test Loader          | 6849         | 428         \n",
      "\n",
      "Topology Data:\n",
      "Number of nodes: 207\n",
      "Number of edges: 1515\n",
      "----------------------------------------------------------\n",
      "Imported model from run \"sj2mggec\".\n",
      "  | Name                | Type              | Params\n",
      "----------------------------------------------------------\n",
      "0 | criterion           | L1Loss            | 0     \n",
      "1 | input_encoder_patch | Linear            | 384   \n",
      "2 | input_encoder_node  | Linear            | 192   \n",
      "3 | edge_encoder        | Linear            | 256   \n",
      "4 | gnns                | ModuleList        | 99.6 K\n",
      "5 | U                   | ModuleList        | 16.8 K\n",
      "6 | mixer_patch         | MLPMixerTemporal  | 168 K \n",
      "7 | mixer_node          | MLPMixerTemporal  | 323 K \n",
      "8 | readout             | SingleNodeReadout | 27.7 K\n",
      "----------------------------------------------------------\n",
      "636 K     Trainable params\n",
      "0         Non-trainable params\n",
      "636 K     Total params\n",
      "2.546     Total estimated model params size (MB)\n"
     ]
    }
   ],
   "source": [
    "import sys\n",
    "import os\n",
    "from matplotlib import pyplot as plt\n",
    "from tqdm import tqdm\n",
    "import torch\n",
    "sys.path.append(os.path.dirname(os.path.abspath('.')))\n",
    "\n",
    "from dev.utils import load_wandb_model\n",
    "\n",
    "model, cfg, train_loader, val_loader, test_loader, topo_data, metadata = load_wandb_model('sj2mggec', name='last.ckpt', device='cuda')"
   ]
  },
  {
   "cell_type": "code",
   "execution_count": 5,
   "metadata": {},
   "outputs": [
    {
     "name": "stderr",
     "output_type": "stream",
     "text": [
      "/mnt/cephfs/store/gr-mc2473/lc865/misc/condaforge/envs/ml-gnn/lib/python3.10/site-packages/lightning/fabric/plugins/environments/slurm.py:204: The `srun` command is available on your system but is not used. HINT: If your intention is to run Lightning on SLURM, prepend your python command with `srun` like so: srun python /mnt/cephfs/store/gr-mc2473/lc865/misc/condaforge/en ...\n",
      "GPU available: True (cuda), used: True\n",
      "TPU available: False, using: 0 TPU cores\n",
      "IPU available: False, using: 0 IPUs\n",
      "HPU available: False, using: 0 HPUs\n",
      "LOCAL_RANK: 0 - CUDA_VISIBLE_DEVICES: [0,1,2,3]\n"
     ]
    },
    {
     "name": "stdout",
     "output_type": "stream",
     "text": [
      "Testing DataLoader 0: 100%|██████████| 428/428 [00:16<00:00, 25.31it/s]\n",
      "────────────────────────────────────────────────────────────────────────────────────────────────────────────────────────\n",
      "       Test metric             DataLoader 0\n",
      "────────────────────────────────────────────────────────────────────────────────────────────────────────────────────────\n",
      "     test/all-mae-12         4.77174186706543\n",
      "     test/all-mae-3          4.073730945587158\n",
      "     test/all-mae-6          4.319094657897949\n",
      "    test/all-mae-all         4.387927055358887\n",
      "    test/all-mape-12        13.338010787963867\n",
      "     test/all-mape-3         11.20315933227539\n",
      "     test/all-mape-6        11.950843811035156\n",
      "    test/all-mape-all        12.1202974319458\n",
      "  test/all-missing_rate    0.059587497264146805\n",
      "    test/all-rmse-12         8.701056480407715\n",
      "     test/all-rmse-3         7.371253967285156\n",
      "     test/all-rmse-6         7.860663414001465\n",
      "    test/all-rmse-all        8.008139610290527\n",
      "        test/loss           0.3130187690258026\n",
      "   test/synthRm-mae-12       4.589415550231934\n",
      "   test/synthRm-mae-3        3.772937059402466\n",
      "   test/synthRm-mae-6       4.0764384269714355\n",
      "  test/synthRm-mae-all       4.141099452972412\n",
      "  test/synthRm-mape-12      12.791175842285156\n",
      "   test/synthRm-mape-3      10.124345779418945\n",
      "   test/synthRm-mape-6      11.108604431152344\n",
      "  test/synthRm-mape-all     11.257421493530273\n",
      "test/synthRm-missing_rate   0.4705088436603546\n",
      "  test/synthRm-rmse-12       8.337638854980469\n",
      "   test/synthRm-rmse-3       6.79472541809082\n",
      "   test/synthRm-rmse-6       7.387988567352295\n",
      "  test/synthRm-rmse-all      7.539520740509033\n",
      "────────────────────────────────────────────────────────────────────────────────────────────────────────────────────────\n"
     ]
    }
   ],
   "source": [
    "# Run test with Lightning trainer\n",
    "from lightning import Trainer\n",
    "\n",
    "trainer = Trainer(\n",
    "    accelerator='auto',\n",
    "    devices=1,\n",
    "    logger=None,\n",
    "    enable_checkpointing=False\n",
    ")\n",
    "torch.set_float32_matmul_precision('medium')\n",
    "\n",
    "# Run test and get metrics\n",
    "test_results = trainer.test(model, test_loader)\n"
   ]
  }
 ],
 "metadata": {
  "kernelspec": {
   "display_name": "ml-gnn",
   "language": "python",
   "name": "python3"
  },
  "language_info": {
   "codemirror_mode": {
    "name": "ipython",
    "version": 3
   },
   "file_extension": ".py",
   "mimetype": "text/x-python",
   "name": "python",
   "nbconvert_exporter": "python",
   "pygments_lexer": "ipython3",
   "version": "3.10.16"
  }
 },
 "nbformat": 4,
 "nbformat_minor": 2
}
